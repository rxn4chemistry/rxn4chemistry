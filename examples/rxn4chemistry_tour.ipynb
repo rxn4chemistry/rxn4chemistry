{
 "cells": [
  {
   "cell_type": "markdown",
   "metadata": {},
   "source": [
    "# Tour of `rxn4chemistry`\n",
    "\n",
    "In this quick tour we will explore the main features of `rxn4chemistry`, the python wrapper for [RXN for Chemistry](https://rxn.res.ibm.com).\n",
    "For a full set of features check the [GitHub repo](https://github.com/rxn4chemistry/rxn4chemistry) and/or the [online documentation](https://rxn4chemistry.github.io/rxn4chemistry)."
   ]
  },
  {
   "cell_type": "code",
   "execution_count": null,
   "metadata": {},
   "outputs": [],
   "source": [
    "import logging\n",
    "from typing import Dict, List\n",
    "from rdkit import Chem\n",
    "from rdkit.Chem import AllChem\n",
    "from IPython.display import display\n",
    "\n",
    "logging.basicConfig(level=logging.INFO, format='%(levelname)s : %(message)s')\n",
    "\n",
    "def get_reaction_from_smiles(reaction_smiles: str) -> Chem.rdChemReactions.ChemicalReaction:\n",
    "    return AllChem.ReactionFromSmarts(reaction_smiles, useSmiles=True)\n",
    "\n",
    "\n",
    "def collect_reactions_from_retrosynthesis(tree: Dict) -> List[str]:\n",
    "    reactions = []\n",
    "    if 'children' in tree and len(tree['children']):\n",
    "        reactions.append(\n",
    "            AllChem.ReactionFromSmarts('{}>>{}'.format(\n",
    "                '.'.join([node['smiles'] for node in tree['children']]),\n",
    "                tree['smiles']\n",
    "            ), useSmiles=True)\n",
    "        )\n",
    "    for node in tree['children']:\n",
    "        reactions.extend(collect_reactions_from_retrosynthesis(node))\n",
    "    return reactions"
   ]
  },
  {
   "cell_type": "markdown",
   "metadata": {},
   "source": [
    "## Instantiating the wrapper\n",
    "\n",
    "Setup the wrapper using a valid API key. You can get one on the IBM RXN website from [here](https://rxn.res.ibm.com/rxn/user/profile)."
   ]
  },
  {
   "cell_type": "code",
   "execution_count": null,
   "metadata": {},
   "outputs": [],
   "source": [
    "from rxn4chemistry import RXN4ChemistryWrapper\n",
    "api_key = 'API_KEY'\n",
    "rxn4chemistry_wrapper = RXN4ChemistryWrapper(api_key=api_key)"
   ]
  },
  {
   "cell_type": "markdown",
   "metadata": {},
   "source": [
    "You can also use a custom on-premise installation by controlling an environment variable:\n",
    "\n",
    "```console\n",
    "export RXN4CHEMISTRY_BASE_URL=\"https://some.other.rxn.server\"\n",
    "```\n",
    "\n",
    "Or setting a different host in your python code:\n",
    "\n",
    "```python\n",
    "rxn4chemistry_wrapper = RXN4ChemistryWrapper(api_key=api_key, base_url='https://some.other.rxn.server')\n",
    "# or set it afterwards\n",
    "# rxn4chemistry_wrapper = RXN4ChemistryWrapper(api_key=api_key)\n",
    "# rxn4chemistry_wrapper.set_base_url('https://some.other.rxn.server')\n",
    "```"
   ]
  },
  {
   "cell_type": "markdown",
   "metadata": {},
   "source": [
    "## Create a project\n",
    "\n",
    "Create a project, you can easily check the identifier associated to it in the response:"
   ]
  },
  {
   "cell_type": "code",
   "execution_count": null,
   "metadata": {},
   "outputs": [],
   "source": [
    "rxn4chemistry_wrapper.create_project('rxn4chemistry_tour')\n",
    "print(f'Identifier for the project {rxn4chemistry_wrapper.project_id}')\n",
    "# NOTE: you can create a project or set an esiting one using:\n",
    "# rxn4chemistry_wrapper.set_project('6088fc284fe8920001a58546')"
   ]
  },
  {
   "cell_type": "markdown",
   "metadata": {},
   "source": [
    "## Reaction prediction\n",
    "\n",
    "RXN for Chemistry uses the Molecular Transformer as forward reaction prediction model (more details in the [paper](https://doi.org/10.1021/acscentsci.9b00576)).\n",
    "![molecular_transformer](https://pubs.acs.org/na101/home/literatum/publisher/achs/journals/content/acscii/2019/acscii.2019.5.issue-9/acscentsci.9b00576/20190918/images/medium/oc9b00576_0009.gif)\n",
    "\n",
    "Running a reaction prediction is as simple as:"
   ]
  },
  {
   "cell_type": "code",
   "execution_count": null,
   "metadata": {},
   "outputs": [],
   "source": [
    "predict_reaction_response = rxn4chemistry_wrapper.predict_reaction(\n",
    "    'BrBr.c1ccc2cc3ccccc3cc2c1'\n",
    ")"
   ]
  },
  {
   "cell_type": "markdown",
   "metadata": {},
   "source": [
    "**NOTE:** we have set limitations on the number of calls per second and per minute in the public version of RXN for Chemistry. These limits can be tweaked or removed in on-premise deployments. Those limitations are currently set to 5 calls per minute, in most cases this is not a problematic limitation."
   ]
  },
  {
   "cell_type": "code",
   "execution_count": null,
   "metadata": {},
   "outputs": [],
   "source": [
    "predict_reaction_results = rxn4chemistry_wrapper.get_predict_reaction_results(\n",
    "    predict_reaction_response['prediction_id']\n",
    ")"
   ]
  },
  {
   "cell_type": "code",
   "execution_count": null,
   "metadata": {},
   "outputs": [],
   "source": [
    "get_reaction_from_smiles(predict_reaction_results['response']['payload']['attempts'][0]['smiles'])"
   ]
  },
  {
   "cell_type": "markdown",
   "metadata": {},
   "source": [
    "It is possible to run reaction prediction in batches (not storing the information in any project) to use the service in a highthroughput fashion:"
   ]
  },
  {
   "cell_type": "code",
   "execution_count": null,
   "metadata": {},
   "outputs": [],
   "source": [
    "predict_rection_batch_response = rxn4chemistry_wrapper.predict_reaction_batch(\n",
    "    precursors_list=['BrBr.c1ccc2cc3ccccc3cc2c1', 'Cl.c1ccc2cc3ccccc3cc2c1']\n",
    ")"
   ]
  },
  {
   "cell_type": "code",
   "execution_count": null,
   "metadata": {},
   "outputs": [],
   "source": [
    "for reaction_prediction in rxn4chemistry_wrapper.get_predict_reaction_batch_results(\n",
    "    predict_rection_batch_response['task_id']\n",
    ")['predictions']:\n",
    "    print(f'Confidence: {reaction_prediction[\"confidence\"]}')\n",
    "    display(get_reaction_from_smiles(reaction_prediction['smiles']))"
   ]
  },
  {
   "cell_type": "markdown",
   "metadata": {},
   "source": [
    "It is also possible to predict multiple forward reaction prediction outcomes (in batch):"
   ]
  },
  {
   "cell_type": "code",
   "execution_count": null,
   "metadata": {},
   "outputs": [],
   "source": [
    "response = rxn4chemistry_wrapper.predict_reaction_batch_topn(\n",
    "    precursors_lists=[\n",
    "        [\"BrBr\", \"c1ccc2cc3ccccc3cc2c1\"],\n",
    "        [\"BrBr\", \"c1ccc2cc3ccccc3cc2c1CCO\"],\n",
    "        [\"Cl\", \"CCC(=O)NCCC\", \"O\"],\n",
    "    ],\n",
    "    topn=5,\n",
    ")"
   ]
  },
  {
   "cell_type": "code",
   "execution_count": null,
   "metadata": {},
   "outputs": [],
   "source": [
    "result = rxn4chemistry_wrapper.get_predict_reaction_batch_topn_results(\n",
    "    response[\"task_id\"]\n",
    ")"
   ]
  },
  {
   "cell_type": "code",
   "execution_count": null,
   "metadata": {},
   "outputs": [],
   "source": [
    "for i, reaction_predictions in enumerate(result['predictions'], 1):\n",
    "    print(f'Outcomes for reaction no {i}:')\n",
    "    for j, prediction in enumerate(reaction_predictions[\"results\"], 1):\n",
    "        product_smiles = \".\".join(prediction[\"smiles\"])\n",
    "        confidence = prediction[\"confidence\"]\n",
    "        print(f'  Product(s) {j}: {product_smiles}, with confidence {confidence}')"
   ]
  },
  {
   "cell_type": "markdown",
   "metadata": {},
   "source": [
    "**NOTE:** the results for batch predictions are not stored permanently in our databases, so we strongly recommend to save them since they will expire."
   ]
  },
  {
   "cell_type": "markdown",
   "metadata": {},
   "source": [
    "## Actions from procedure description\n",
    "\n",
    "RXN for Chemistry allows to extract machine-readable actions from textual description of chemical procedures (see details in the [paper](https://doi.org/10.1038/s41467-020-17266-6)).\n",
    "![actions_from_procedure](https://media.springernature.com/full/springer-static/image/art%3A10.1038%2Fs41467-020-17266-6/MediaObjects/41467_2020_17266_Fig3_HTML.png)\n",
    "\n",
    "Extract the actions from a recipe:"
   ]
  },
  {
   "cell_type": "code",
   "execution_count": null,
   "metadata": {},
   "outputs": [],
   "source": [
    "actios_from_procedure_results = rxn4chemistry_wrapper.paragraph_to_actions(\n",
    "    'To a stirred solution of '\n",
    "    '7-(difluoromethylsulfonyl)-4-fluoro-indan-1-one (110 mg, '\n",
    "    '0.42 mmol) in methanol (4 mL) was added sodium borohydride '\n",
    "    '(24 mg, 0.62 mmol). The reaction mixture was stirred at '\n",
    "    'ambient temperature for 1 hour.'\n",
    ")"
   ]
  },
  {
   "cell_type": "code",
   "execution_count": null,
   "metadata": {},
   "outputs": [],
   "source": [
    "for index, action in enumerate(actios_from_procedure_results['actions'], 1):\n",
    "    print(f'{index}. {action}')"
   ]
  },
  {
   "cell_type": "markdown",
   "metadata": {},
   "source": [
    "## Retrosynthesis route prediction\n",
    "\n",
    "RXN for Chemistry uses an hyper-graph exploration approach informed by the Molecular Transfomer for backward and forward reaction prediction (for details see the [paper](https://doi.org/10.1039/C9SC05704H)).\n",
    "![retrosynthesis_prediction](https://pubs.rsc.org/en/Image/Get?imageInfo.ImageType=GA&imageInfo.ImageIdentifier.ManuscriptID=C9SC05704H&imageInfo.ImageIdentifier.Year=2020)\n",
    "\n",
    "Running a retrosynthesis is as easy as picking a molecule and calling a one-liner:"
   ]
  },
  {
   "cell_type": "code",
   "execution_count": null,
   "metadata": {},
   "outputs": [],
   "source": [
    "smiles = 'CC(=O)NC1=CC=C(Br)C=C1'\n",
    "predict_automatic_retrosynthesis_response = rxn4chemistry_wrapper.predict_automatic_retrosynthesis(product=smiles)"
   ]
  },
  {
   "cell_type": "markdown",
   "metadata": {},
   "source": [
    "Check the status of the retrosynthesis prediction:"
   ]
  },
  {
   "cell_type": "code",
   "execution_count": null,
   "metadata": {},
   "outputs": [],
   "source": [
    "predict_automatic_retrosynthesis_results = rxn4chemistry_wrapper.get_predict_automatic_retrosynthesis_results(\n",
    "    predict_automatic_retrosynthesis_response['prediction_id']\n",
    ")\n",
    "predict_automatic_retrosynthesis_results['status']"
   ]
  },
  {
   "cell_type": "markdown",
   "metadata": {},
   "source": [
    "Upon 'SUCCESS' we can choose one of the returned retrosynthetic paths. The paths are sorted based on the scoring mechanism of the models:"
   ]
  },
  {
   "cell_type": "code",
   "execution_count": null,
   "metadata": {
    "scrolled": true
   },
   "outputs": [],
   "source": [
    "for index, tree in enumerate(predict_automatic_retrosynthesis_results['retrosynthetic_paths']):\n",
    "    print('Showing path {} with confidence {}:'.format(index, tree['confidence']))\n",
    "    for reaction in collect_reactions_from_retrosynthesis(tree):\n",
    "        display(Chem.Draw.ReactionToImage(reaction))"
   ]
  },
  {
   "cell_type": "markdown",
   "metadata": {},
   "source": [
    "## Perform a synthesis via [RoboRXN](https://rxn.res.ibm.com/roborxn) using one of the predict routes\n",
    "\n",
    "Once a retrosynthesis prediction is performed we can predict a synthesis plan:"
   ]
  },
  {
   "cell_type": "code",
   "execution_count": null,
   "metadata": {},
   "outputs": [],
   "source": [
    "create_synthesis_from_sequence_response = rxn4chemistry_wrapper.create_synthesis_from_sequence(\n",
    "    sequence_id=predict_automatic_retrosynthesis_results['retrosynthetic_paths'][1]['sequenceId']\n",
    ")\n",
    "print(f'Identifier for the synthesis: {create_synthesis_from_sequence_response[\"synthesis_id\"]}')"
   ]
  },
  {
   "cell_type": "markdown",
   "metadata": {},
   "source": [
    "Inspect the actions predicted by the AI model (for details see [paper](https://doi.org/10.1038/s41467-021-22951-1)).\n",
    "![smiles_to_actions](https://media.springernature.com/full/springer-static/image/art%3A10.1038%2Fs41467-021-22951-1/MediaObjects/41467_2021_22951_Fig1_HTML.png)\n"
   ]
  },
  {
   "cell_type": "code",
   "execution_count": null,
   "metadata": {},
   "outputs": [],
   "source": [
    "import json\n",
    "synthesis_id = create_synthesis_from_sequence_response['synthesis_id']\n",
    "node_ids = rxn4chemistry_wrapper.get_node_ids(synthesis_id=synthesis_id)\n",
    "node_id = node_ids[-1]\n",
    "\n",
    "actions_and_product = rxn4chemistry_wrapper.get_reaction_settings(synthesis_id=synthesis_id, node_id=node_id)\n",
    "node_actions, product = actions_and_product['actions'], actions_and_product['product']\n",
    "\n",
    "for index, action in enumerate(node_actions, 1):\n",
    "    print(f'Action {index}:\\n{json.dumps(action, indent=2)}\\n')"
   ]
  },
  {
   "attachments": {},
   "cell_type": "markdown",
   "metadata": {},
   "source": [
    "The adding acetyl chloride acction needs ot be changed to not adding it dropwise since solids are added in pins and we remove the purify actions since it is currently not supported on the robotic hardware\n"
   ]
  },
  {
   "cell_type": "code",
   "execution_count": null,
   "metadata": {},
   "outputs": [],
   "source": [
    "# update the the action so the solid is not added dropwise\n",
    "node_actions[3]['content']['dropwise']['value'] = False\n",
    "\n",
    "# remove the purify action \n",
    "node_actions.pop(11)\n",
    "\n",
    "# update the node actions\n",
    "rxn4chemistry_wrapper.update_reaction_settings(synthesis_id=synthesis_id, node_id=node_id, actions=node_actions, product=product)\n"
   ]
  },
  {
   "cell_type": "markdown",
   "metadata": {},
   "source": [
    "Start the synthesis and follow its status:"
   ]
  },
  {
   "cell_type": "code",
   "execution_count": null,
   "metadata": {},
   "outputs": [],
   "source": [
    "synthesis_execution = rxn4chemistry_wrapper.start_synthesis(\n",
    "    synthesis_id=create_synthesis_from_sequence_response['synthesis_id']\n",
    ")\n",
    "synthesis_execution['synthesis_execution_id']"
   ]
  },
  {
   "cell_type": "code",
   "execution_count": null,
   "metadata": {},
   "outputs": [],
   "source": [
    "synthesis_status_result = rxn4chemistry_wrapper.get_synthesis_status(\n",
    "    synthesis_id=synthesis_execution['synthesis_execution_id']\n",
    ")\n",
    "synthesis_status_result['status']"
   ]
  },
  {
   "cell_type": "markdown",
   "metadata": {},
   "source": [
    "For fine-grained live updates check the progress on [RXN for Chemistry](https://rxn.res.ibm.com/rxn) under the RoboRXN section."
   ]
  },
  {
   "cell_type": "code",
   "execution_count": null,
   "metadata": {},
   "outputs": [],
   "source": []
  }
 ],
 "metadata": {
  "kernelspec": {
   "display_name": "rxn4wrapper",
   "language": "python",
   "name": "python3"
  },
  "language_info": {
   "codemirror_mode": {
    "name": "ipython",
    "version": 3
   },
   "file_extension": ".py",
   "mimetype": "text/x-python",
   "name": "python",
   "nbconvert_exporter": "python",
   "pygments_lexer": "ipython3",
   "version": "3.8.15"
  },
  "vscode": {
   "interpreter": {
    "hash": "ac350fdbc34d61ccaab1169107d2e6fc3d1576ffc07c6661b84c45bbbf76221d"
   }
  }
 },
 "nbformat": 4,
 "nbformat_minor": 4
}
