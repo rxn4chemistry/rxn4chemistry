{
 "cells": [
  {
   "cell_type": "markdown",
   "metadata": {},
   "source": [
    "# RXN for Chemistry APIs: Example Notebook\n",
    "\n",
    "In this notebook we explore the main features of `rxn4chemistry`, the python wrapper for [RXN for Chemistry](https://rxn.res.ibm.com). For a full set of features, consult the the [online documentation](https://rxn4chemistry.github.io/rxn4chemistry). Below are the tools in RXN for Chemistry. \n",
    "\n",
    "| Tool | Description | Ref. |\n",
    "| --- | --- | --- |\n",
    "| **Predict retrosynthesis** | Predict possible retrosynthetic routes given a target molecule | 1, 2 |\n",
    "| **Predict product** | Predict the product of a chemical reaction given the starting materials | 3 | \n",
    "| **Predict reagents** | Predict the reagents needed to convert a given starting material to a given product | N/A | \n",
    "| **Plan a synthesis** | Plan a synthesis starting from a target molecule, a retrosynthetic route, or an experimental procedure | 4, 5 | \n",
    "| **Atom mapping** | Map atoms from starting materials to products | 6 | \n",
    "| **Text to procedure** | Translate your reaction procedures from text to exact steps to follow | 5 | \n",
    "| **Reaction digitization** | Convert images of reaction schemes to machine-readable format | N/A | \n",
    "\n",
    "Please refer to the references below for methodological details of the AI models. If you use RXN for Chemistry in your projects, please consider citing the relevant article(s).\n",
    "\n",
    "1. *\"Predicting retrosynthetic pathways using transformer-based models and a hyper-graph exploration strategy.\"* Schwaller, P.; , Petraglia, R.; Zullo, V.; Nair, V. H.; Haeuselmann, R. A.; Pisoni, R.; Bekas, C.; Iuliano, A.; Laino, T.  *Chem. Sci.*, **2020**, *11*, 3316. [[link]](https://doi.org/10.1039/C9SC05704H)\n",
    "2. *\"Biocatalysed synthesis planning using data-driven learning\"* Probst, D.; Manica, M.; Nana Teukam, Y. G.; Castrogiovanni, A.; Paratore, F.; Laino, T. *Nat. Commun.* **2022**, *13*, 964. [[link]](https://www.nature.com/articles/s41467-022-28536-w)\n",
    "3. *\"Molecular Transformer: A Model for Uncertainty-Calibrated Chemical Reaction Prediction.\"* Schwaller, P.; Laino, T.; Gaudin, T.; Bolgar, P.; Hunter, C. A.; Bekas, C.; Lee, A. A. *ACS Cent. Sci.* **2019**, *5*, 1572. [[link]](https://doi.org/10.1021/acscentsci.9b00576)\n",
    "4. *\"Inferring experimental procedures from text-based representations of chemical reactions.\"* Vaucher, A. C.; Schwaller, P.; Geluykens, J.; Nair, V. H.; Iuliano, A.; Laino, T. *Nat. Commun.* **2021**, *12*, 2573. [[link]](https://doi.org/10.1038/s41467-021-22951-1)\n",
    "5. *\"Automated extraction of chemical synthesis actions from experimental procedures.\"* Vaucher, A. C.; Zipoli, F.; Geluykens, J.; Nair, V. H.; Schwaller, P.; Laino, T. *Nat. Commun.* **2020**, *11*, 3601. [[link]](https://doi.org/10.1038/s41467-020-17266-6)\n",
    "6. *\"Extraction of organic chemistry grammar from unsupervised learning of chemical reactions.\"* Schwaller, P.; Hoover, B; Reymond, J.-L.; Strobelt, H.; Laino, T. *Sci. Adv.* **2021**, *7*, eabe4166. [[link]](https://www.science.org/doi/10.1126/sciadv.abe4166)\n",
    "\n"
   ]
  },
  {
   "cell_type": "markdown",
   "metadata": {},
   "source": [
    "## API access\n",
    "\n",
    "Users in the free tier of RXN for Chemistry have UI access only.  For programmatic access to RXN for Chemistry, users need an Individual or Team subscription.  These plans feature full API access with no rate limitations. You can view subscription options [here](https://rxn.app.accelerate.science/rxn/user-subscription). "
   ]
  },
  {
   "cell_type": "markdown",
   "metadata": {},
   "source": [
    "## Instantiate the wrapper\n",
    "\n",
    "Set up the wrapper using a valid API key. If you have an Individual or Teams subscription, your API key can be found on the RXN for Chemistry [profile page](https://rxn.res.ibm.com/rxn/user/profile). \n",
    "\n"
   ]
  },
  {
   "cell_type": "code",
   "execution_count": null,
   "metadata": {},
   "outputs": [],
   "source": [
    "from rxn4chemistry import RXN4ChemistryWrapper\n",
    "\n",
    "api_key = \"YOUR_API_KEY\"\n",
    "rxn = RXN4ChemistryWrapper(api_key=api_key)"
   ]
  },
  {
   "cell_type": "markdown",
   "metadata": {},
   "source": [
    "## Projects\n",
    "\n",
    "Results from the four tools below can be saved to a project.  Projects help to organize analyses and can be shared with colleagues.\n",
    "\n",
    "- Predict retrosynthesis\n",
    "- Predict product\n",
    "- Predict reagents\n",
    "- Plan a synthesis"
   ]
  },
  {
   "cell_type": "markdown",
   "metadata": {},
   "source": [
    "### For on-premise installations (uncommon)\n",
    "\n",
    "You can refer to a custom on-premise installation via an environment variable:\n",
    "\n",
    "```console\n",
    "export RXN4CHEMISTRY_BASE_URL=\"https://some.other.rxn.server\"\n",
    "```\n",
    "\n",
    "Or by setting a different host in your python code:"
   ]
  },
  {
   "cell_type": "code",
   "execution_count": null,
   "metadata": {},
   "outputs": [],
   "source": [
    "# uncomment the line below to set a different host\n",
    "# rxn.set_base_url('https://some.other.rxn.server')"
   ]
  },
  {
   "cell_type": "markdown",
   "metadata": {},
   "source": [
    "### Create a new project\n",
    "\n",
    "To create a project, run the ```create_project``` function.\n",
    "\n",
    "This step can be skipped if you want to use a project that you have created previously."
   ]
  },
  {
   "cell_type": "code",
   "execution_count": null,
   "metadata": {},
   "outputs": [],
   "source": [
    "rxn.create_project(\"rxn4chemistry_tour\")\n",
    "rxn.set_project(rxn.project_id)\n",
    "print(f\"The project ID is {rxn.project_id}\")"
   ]
  },
  {
   "cell_type": "markdown",
   "metadata": {},
   "source": [
    "### Choose an existing project\n",
    "\n",
    "If you have already created the project, you can work within it by running ```set_project```."
   ]
  },
  {
   "cell_type": "code",
   "execution_count": null,
   "metadata": {},
   "outputs": [],
   "source": [
    "rxn.set_project(\"YOUR_PROJECT_ID\")"
   ]
  },
  {
   "cell_type": "markdown",
   "metadata": {},
   "source": [
    "## Predict retrosynthesis\n",
    "\n",
    "### Predict possible retrosynthetic routes given a target molecule\n",
    "\n",
    "The predict retrosynthesis tool supports both automatic and user-guided retrosynthesis.  We recommend that user-guided retrosynthesis be done within the RXN for Chemistry site since the GUI workflow is more user-friendly.  The automatic retrosynthesis option is shown below.\n",
    "\n",
    "To predict a retrosynthesis using default parameters, simply define a molecule in SMILES format and pass it as an argument to the ```predict_automatic_retrosynthesis``` function."
   ]
  },
  {
   "cell_type": "code",
   "execution_count": null,
   "metadata": {},
   "outputs": [],
   "source": [
    "smiles = 'CC(=O)NC1=CC=C(Br)C=C1'\n",
    "predict_automatic_retrosynthesis_response = rxn.predict_automatic_retrosynthesis(product=smiles)"
   ]
  },
  {
   "cell_type": "markdown",
   "metadata": {},
   "source": [
    "Check on the status of the retrosynthesis prediction. \n",
    "- 'NEW': Job is still running.\n",
    "- 'SUCCESS': Job is complete.\n",
    "\n",
    "Rerun the cell below until 'SUCCESS' is returned."
   ]
  },
  {
   "cell_type": "code",
   "execution_count": null,
   "metadata": {
    "scrolled": true
   },
   "outputs": [],
   "source": [
    "predict_automatic_retrosynthesis_results = rxn.get_predict_automatic_retrosynthesis_results(\n",
    "    predict_automatic_retrosynthesis_response['prediction_id']\n",
    ")\n",
    "predict_automatic_retrosynthesis_results['status']"
   ]
  },
  {
   "cell_type": "markdown",
   "metadata": {},
   "source": [
    "Upon 'SUCCESS' we can assess the predicted retrosynthetic paths. \n",
    "\n",
    "But first we define a function ```collect_reactions_from_retrosynthesis``` to parse the results of the retrosynthesis prediction."
   ]
  },
  {
   "cell_type": "code",
   "execution_count": null,
   "metadata": {},
   "outputs": [],
   "source": [
    "from typing import Dict, List\n",
    "from IPython.display import display\n",
    "from rdkit import Chem\n",
    "from rdkit.Chem import AllChem\n",
    "\n",
    "# To parse results from the predict retrosynthesis tool\n",
    "def collect_reactions_from_retrosynthesis(tree: Dict) -> List[str]:\n",
    "    reactions = []\n",
    "    if 'children' in tree and len(tree['children']):\n",
    "        reactions.append(\n",
    "            AllChem.ReactionFromSmarts('{}>>{}'.format(\n",
    "                '.'.join([node['smiles'] for node in tree['children']]),\n",
    "                tree['smiles']\n",
    "            ), useSmiles=True)\n",
    "        )\n",
    "    for node in tree['children']:\n",
    "        reactions.extend(collect_reactions_from_retrosynthesis(node))\n",
    "    return reactions"
   ]
  },
  {
   "cell_type": "markdown",
   "metadata": {},
   "source": [
    "We use this helper function to display the different retrosynthesis routes produced by the tool."
   ]
  },
  {
   "cell_type": "code",
   "execution_count": null,
   "metadata": {},
   "outputs": [],
   "source": [
    "for index, tree in enumerate(predict_automatic_retrosynthesis_results['retrosynthetic_paths']):\n",
    "    print('Showing path {} with confidence {}:'.format(index, tree['confidence']))\n",
    "    for reaction in collect_reactions_from_retrosynthesis(tree):\n",
    "        display(Chem.Draw.ReactionToImage(reaction))"
   ]
  },
  {
   "cell_type": "markdown",
   "metadata": {},
   "source": [
    "## Predict product\n",
    "\n",
    "### Predict the product of a chemical reaction given the starting materials\n",
    "\n",
    "RXN for Chemistry uses a forward reaction prediction model based on molecular transformers.  \n",
    "\n",
    "To run a forward reaction prediction, use the ```predict_reaction``` function.  Pass the starting materials in SMILES format, appended with a `.` character as shown below."
   ]
  },
  {
   "cell_type": "code",
   "execution_count": null,
   "metadata": {},
   "outputs": [],
   "source": [
    "predict_reaction_response = rxn.predict_reaction(\n",
    "    'BrBr.c1ccc2cc3ccccc3cc2c1'\n",
    ")"
   ]
  },
  {
   "cell_type": "markdown",
   "metadata": {},
   "source": [
    "Rerun the cell below until SUCCESS is returned."
   ]
  },
  {
   "cell_type": "code",
   "execution_count": null,
   "metadata": {},
   "outputs": [],
   "source": [
    "predict_reaction_results = rxn.get_predict_reaction_results(\n",
    "    predict_reaction_response['prediction_id']\n",
    ")\n",
    "print(predict_reaction_results[\"response\"][\"payload\"][\"status\"])"
   ]
  },
  {
   "cell_type": "markdown",
   "metadata": {},
   "source": [
    "Define a helper function to parse the output."
   ]
  },
  {
   "cell_type": "code",
   "execution_count": null,
   "metadata": {},
   "outputs": [],
   "source": [
    "def get_reaction_from_smiles(reaction_smiles: str) -> Chem.rdChemReactions.ChemicalReaction:\n",
    "    return AllChem.ReactionFromSmarts(reaction_smiles, useSmiles=True)"
   ]
  },
  {
   "cell_type": "markdown",
   "metadata": {},
   "source": [
    "Use the helper function to show the predicted product."
   ]
  },
  {
   "cell_type": "code",
   "execution_count": null,
   "metadata": {},
   "outputs": [],
   "source": [
    "get_reaction_from_smiles(predict_reaction_results['response']['payload']['attempts'][0]['smiles'])"
   ]
  },
  {
   "cell_type": "markdown",
   "metadata": {},
   "source": [
    "It is also possible to run forward reaction predictions in batches to use the service in a high-throughput fashion.  Note that this will not store the information in any project."
   ]
  },
  {
   "cell_type": "code",
   "execution_count": null,
   "metadata": {},
   "outputs": [],
   "source": [
    "predict_rection_batch_response = rxn.predict_reaction_batch(\n",
    "    precursors_list=['BrBr.c1ccc2cc3ccccc3cc2c1', 'Cl.c1ccc2cc3ccccc3cc2c1']\n",
    ")"
   ]
  },
  {
   "cell_type": "markdown",
   "metadata": {},
   "source": [
    "Rerun the cell below until a dictionary is returned."
   ]
  },
  {
   "cell_type": "code",
   "execution_count": null,
   "metadata": {
    "scrolled": true
   },
   "outputs": [],
   "source": [
    "result = rxn.get_predict_reaction_batch_results(\n",
    "    predict_rection_batch_response['task_id']\n",
    ")\n",
    "print(result)"
   ]
  },
  {
   "cell_type": "markdown",
   "metadata": {},
   "source": [
    "Then we can dispay the prediction results for each of the reactions in the batch."
   ]
  },
  {
   "cell_type": "code",
   "execution_count": null,
   "metadata": {},
   "outputs": [],
   "source": [
    "for reaction_prediction in result[\"predictions\"]:\n",
    "    print(f'Confidence: {reaction_prediction[\"confidence\"]}')\n",
    "    display(get_reaction_from_smiles(reaction_prediction['smiles']))"
   ]
  },
  {
   "cell_type": "markdown",
   "metadata": {},
   "source": [
    "It is also possible to predict the top N products for each reaction (in batch). "
   ]
  },
  {
   "cell_type": "code",
   "execution_count": null,
   "metadata": {},
   "outputs": [],
   "source": [
    "response = rxn.predict_reaction_batch_topn(\n",
    "    precursors_lists=[\n",
    "        [\"BrBr\", \"c1ccc2cc3ccccc3cc2c1\"],\n",
    "        [\"BrBr\", \"c1ccc2cc3ccccc3cc2c1CCO\"],\n",
    "        [\"Cl\", \"CCC(=O)NCCC\", \"O\"],\n",
    "    ],\n",
    "    topn=5,\n",
    ")"
   ]
  },
  {
   "cell_type": "markdown",
   "metadata": {},
   "source": [
    "Rerun the cell below until SUCCESS is returned."
   ]
  },
  {
   "cell_type": "code",
   "execution_count": null,
   "metadata": {},
   "outputs": [],
   "source": [
    "result = rxn.get_predict_reaction_batch_topn_results(\n",
    "    response[\"task_id\"]\n",
    ")\n",
    "try:\n",
    "    result[\"predictions\"]\n",
    "    print(\"SUCCESS\")\n",
    "except:\n",
    "    print(\"Prediction not ready, try again\")"
   ]
  },
  {
   "cell_type": "markdown",
   "metadata": {},
   "source": [
    "Then we list the predicted products, alongside their confidences, for each of the three reactions."
   ]
  },
  {
   "cell_type": "code",
   "execution_count": null,
   "metadata": {},
   "outputs": [],
   "source": [
    "for i, reaction_predictions in enumerate(result['predictions'], 1):\n",
    "    print(f'Outcomes for reaction no {i}:')\n",
    "    for j, prediction in enumerate(reaction_predictions[\"results\"], 1):\n",
    "        product_smiles = \".\".join(prediction[\"smiles\"])\n",
    "        confidence = prediction[\"confidence\"]\n",
    "        print(f'  Product(s) {j}: {product_smiles}, with confidence {confidence}')"
   ]
  },
  {
   "cell_type": "markdown",
   "metadata": {},
   "source": [
    "**NOTE:** The results for batch predictions are only stored temporarily in our databases, so we strongly recommend saving them elsewhere."
   ]
  },
  {
   "cell_type": "markdown",
   "metadata": {},
   "source": [
    "## Predict reagents\n",
    "\n",
    "### Predict the reagents needed to convert a given starting material to a given product\n",
    "\n",
    "This tool predicts which reagents would allow you to convert your starting material to the desired product."
   ]
  },
  {
   "cell_type": "code",
   "execution_count": null,
   "metadata": {},
   "outputs": [],
   "source": [
    "starting_material_smiles = 'C1=C(C=O)C=C(Br)C=C1'\n",
    "product_smiles = 'C1C=CC(Br)=CC=1/C=C/C(O)=O'\n",
    "response = rxn.predict_reagents(\n",
    "    starting_material_smiles,\n",
    "    product_smiles\n",
    ")\n",
    "print(response[\"prediction_id\"])"
   ]
  },
  {
   "cell_type": "markdown",
   "metadata": {},
   "source": [
    "Rerun the cell below until SUCCESS is returned."
   ]
  },
  {
   "cell_type": "code",
   "execution_count": null,
   "metadata": {},
   "outputs": [],
   "source": [
    "result = rxn.get_predict_reagents_results(response[\"prediction_id\"])\n",
    "print(result[\"response\"][\"payload\"][\"status\"])"
   ]
  },
  {
   "cell_type": "markdown",
   "metadata": {},
   "source": [
    "Display the overall predicted reaction."
   ]
  },
  {
   "cell_type": "code",
   "execution_count": null,
   "metadata": {},
   "outputs": [],
   "source": [
    "for item in result[\"response\"][\"payload\"][\"sequences\"]:\n",
    "    print(f'Confidence: {item[\"confidence\"]}')\n",
    "    display(AllChem.ReactionFromSmarts(item[\"smiles\"]))"
   ]
  },
  {
   "cell_type": "markdown",
   "metadata": {},
   "source": [
    "## Plan a synthesis\n",
    "\n",
    "### Plan a synthesis starting from a target molecule, a retrosynthetic route, or an experimental procedure in text format\n",
    "\n",
    "**NOTE:** We recommend this tool be used within the RXN for Chemistry site instead of via API (as shown here), since the GUI workflow is more user-friendly."
   ]
  },
  {
   "cell_type": "markdown",
   "metadata": {},
   "source": [
    "We will convert our retrosynthesis prediction from above into a synthesis plan. The cell below may take a short while to run."
   ]
  },
  {
   "cell_type": "code",
   "execution_count": null,
   "metadata": {},
   "outputs": [],
   "source": [
    "create_synthesis_from_sequence_response = rxn.create_synthesis_from_sequence(\n",
    "    sequence_id=predict_automatic_retrosynthesis_results['retrosynthetic_paths'][1]['sequenceId']\n",
    ")\n",
    "print(f'Identifier for the synthesis: {create_synthesis_from_sequence_response[\"synthesis_id\"]}')"
   ]
  },
  {
   "cell_type": "markdown",
   "metadata": {},
   "source": [
    "Get the actions predicted by the AI model."
   ]
  },
  {
   "cell_type": "code",
   "execution_count": null,
   "metadata": {},
   "outputs": [],
   "source": [
    "synthesis_id = create_synthesis_from_sequence_response['synthesis_id']\n",
    "node_id = rxn.get_node_ids(synthesis_id=synthesis_id)[-1]"
   ]
  },
  {
   "cell_type": "markdown",
   "metadata": {},
   "source": [
    "Print the actions."
   ]
  },
  {
   "cell_type": "code",
   "execution_count": null,
   "metadata": {},
   "outputs": [],
   "source": [
    "actions_and_product = rxn.get_reaction_settings(synthesis_id=synthesis_id, node_id=node_id)\n",
    "print(actions_and_product)"
   ]
  },
  {
   "cell_type": "code",
   "execution_count": null,
   "metadata": {},
   "outputs": [],
   "source": [
    "import json\n",
    "\n",
    "node_actions, product = actions_and_product['actions'], actions_and_product['product']\n",
    "\n",
    "for index, action in enumerate(node_actions, 1):\n",
    "    print(f'Action {index}:\\n{json.dumps(action, indent=4)}\\n')"
   ]
  },
  {
   "cell_type": "markdown",
   "metadata": {},
   "source": [
    "The adding acetyl chloride action needs to be changed to not be dropwise since solids are added in pins. We also remove the purify action since it is not currently supported by commonly used robotic hardware.\n"
   ]
  },
  {
   "cell_type": "code",
   "execution_count": null,
   "metadata": {},
   "outputs": [],
   "source": [
    "# update the the action so the solid is not added dropwise\n",
    "node_actions[3]['content']['dropwise']['value'] = False\n",
    "\n",
    "# remove the purify action \n",
    "node_actions.pop(11)\n",
    "\n",
    "# update the node actions\n",
    "rxn.update_reaction_settings(synthesis_id=synthesis_id, node_id=node_id, actions=node_actions, product=product)"
   ]
  },
  {
   "cell_type": "markdown",
   "metadata": {},
   "source": [
    "## Atom mapping\n",
    "\n",
    "### Map atoms from starting materials to product"
   ]
  },
  {
   "cell_type": "markdown",
   "metadata": {},
   "source": [
    "The ```predict_reaction_properties``` function will perform atom mapping as shown below."
   ]
  },
  {
   "cell_type": "code",
   "execution_count": null,
   "metadata": {},
   "outputs": [],
   "source": [
    "reaction_prop = rxn.predict_reaction_properties(\n",
    "    ['CC(=O)[OH]>>CC(=O)OCC']\n",
    ")\n",
    "print(reaction_prop['response']['payload']['content'][0]['value'])"
   ]
  },
  {
   "cell_type": "markdown",
   "metadata": {},
   "source": [
    "## Text to procedure\n",
    "\n",
    "### Translate your reaction procedures from text to exact steps to follow\n",
    "\n",
    "Extract machine-readable actions from text descriptions of chemical procedures in paragraph format.  To extract the actions from a recipe, pass the description as a string to the `paragraph_to_actions` function."
   ]
  },
  {
   "cell_type": "code",
   "execution_count": null,
   "metadata": {},
   "outputs": [],
   "source": [
    "actions_from_procedure_results = rxn.paragraph_to_actions(\n",
    "    'To a stirred solution of '\n",
    "    '7-(difluoromethylsulfonyl)-4-fluoro-indan-1-one (110 mg, '\n",
    "    '0.42 mmol) in methanol (4 mL) was added sodium borohydride '\n",
    "    '(24 mg, 0.62 mmol). The reaction mixture was stirred at '\n",
    "    'ambient temperature for 1 hour.'\n",
    ")"
   ]
  },
  {
   "cell_type": "markdown",
   "metadata": {},
   "source": [
    "The output is a standardized procedure, which can be a useful starting point for passing information to a robotic platform."
   ]
  },
  {
   "cell_type": "code",
   "execution_count": null,
   "metadata": {},
   "outputs": [],
   "source": [
    "for index, action in enumerate(actions_from_procedure_results['actions'], 1):\n",
    "    print(f'{index}. {action}')"
   ]
  },
  {
   "cell_type": "markdown",
   "metadata": {},
   "source": [
    "## Reaction digitization\n",
    "\n",
    "### Convert images of reaction schemes to machine-readable format\n",
    "\n",
    "**NOTE:** We recommend this tool be used within the RXN for Chemistry site instead of via API (as shown here), since the GUI workflow is more user-friendly."
   ]
  },
  {
   "cell_type": "code",
   "execution_count": null,
   "metadata": {},
   "outputs": [],
   "source": [
    "# Upload the picture and get back the file id\n",
    "# Use full path and ensure the path is correct\n",
    "try:\n",
    "    response = rxn.upload_file('./reaction_scheme.png')\n",
    "    file_id = response['response']['payload']['id']\n",
    "    print(file_id)\n",
    "except FileNotFoundError:\n",
    "    print(\"File path provided does not exist\")"
   ]
  },
  {
   "attachments": {},
   "cell_type": "markdown",
   "metadata": {},
   "source": [
    "Use the file_id to start the digitization process. This may take some time."
   ]
  },
  {
   "cell_type": "code",
   "execution_count": null,
   "metadata": {},
   "outputs": [],
   "source": [
    "result = rxn.digitize_reaction(file_id)\n",
    "result['response']['payload']['reactions']"
   ]
  },
  {
   "cell_type": "markdown",
   "metadata": {},
   "source": [
    "Display the results in a human-readable way."
   ]
  },
  {
   "cell_type": "code",
   "execution_count": null,
   "metadata": {},
   "outputs": [],
   "source": [
    "for item in result[\"response\"][\"payload\"][\"reactions\"]:\n",
    "    print(item[\"reactant\"][\"content\"])\n",
    "    print(f\"   --- {item['text']['content']} --->\")\n",
    "    print(item[\"product\"][\"content\"])\n",
    "    print()"
   ]
  }
 ],
 "metadata": {
  "kernelspec": {
   "display_name": "Python 3 (ipykernel)",
   "language": "python",
   "name": "python3"
  },
  "language_info": {
   "codemirror_mode": {
    "name": "ipython",
    "version": 3
   },
   "file_extension": ".py",
   "mimetype": "text/x-python",
   "name": "python",
   "nbconvert_exporter": "python",
   "pygments_lexer": "ipython3",
   "version": "3.11.6"
  },
  "vscode": {
   "interpreter": {
    "hash": "ac350fdbc34d61ccaab1169107d2e6fc3d1576ffc07c6661b84c45bbbf76221d"
   }
  }
 },
 "nbformat": 4,
 "nbformat_minor": 4
}
