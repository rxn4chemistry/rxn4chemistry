{
 "cells": [
  {
   "cell_type": "markdown",
   "metadata": {},
   "source": [
    "# Designing a synthesis route and executing it on a robot\n",
    "In this example we show how to use the endpoints of the `rxn4chemistry` package. \n",
    "- We start from a target molecule in SMILES format.\n",
    "- We then use the models to predict a retrosynthetic path.\n",
    "- Once we have chosen the desired path, we start a new synthesis on the robotic hardware.\n",
    "- We monitor the progress of the execution and finally download a pdf report from the analysis."
   ]
  },
  {
   "cell_type": "markdown",
   "metadata": {},
   "source": [
    "## Setup the logger"
   ]
  },
  {
   "cell_type": "code",
   "execution_count": null,
   "metadata": {},
   "outputs": [],
   "source": [
    "import logging\n",
    "logging.basicConfig(level=logging.INFO, format='%(levelname)s : %(message)s')"
   ]
  },
  {
   "cell_type": "markdown",
   "metadata": {},
   "source": [
    "## Instantiating the wrapper\n",
    "Setup the wrapper using a valida API key. You can get one on the IBM RXN website from [here](https://rxn.res.ibm.com/rxn/user/profile)."
   ]
  },
  {
   "cell_type": "code",
   "execution_count": null,
   "metadata": {},
   "outputs": [],
   "source": [
    "from rxn4chemistry import RXN4ChemistryWrapper\n",
    "api_key = 'API_KEY'\n",
    "rxn4chemistry_wrapper = RXN4ChemistryWrapper(api_key=api_key)"
   ]
  },
  {
   "cell_type": "markdown",
   "metadata": {},
   "source": [
    "## Create a project\n",
    "\n",
    "Create a project, you can easily check the identifier associated to it in the response."
   ]
  },
  {
   "cell_type": "code",
   "execution_count": null,
   "metadata": {},
   "outputs": [],
   "source": [
    "response = rxn4chemistry_wrapper.create_project('rxn4chemistry_examples')"
   ]
  },
  {
   "cell_type": "markdown",
   "metadata": {},
   "source": [
    "You can get your project id from the wrapper"
   ]
  },
  {
   "cell_type": "code",
   "execution_count": null,
   "metadata": {},
   "outputs": [],
   "source": [
    "rxn4chemistry_wrapper.project_id"
   ]
  },
  {
   "cell_type": "markdown",
   "metadata": {},
   "source": [
    "## Run a retrosynthesis prediction using the wrapper\n",
    "Running a retrosynthesis is as easy as picking a molecule and calling a one-liner.\n",
    "\n",
    "In this example, we will be predicting a path for [4-Bromoacetanilide](https://www.chemsynthesis.com/base/chemical-structure-2.html)."
   ]
  },
  {
   "cell_type": "code",
   "execution_count": null,
   "metadata": {},
   "outputs": [],
   "source": [
    "smiles = 'CC(=O)NC1=CC=C(Br)C=C1'\n",
    "response = rxn4chemistry_wrapper.predict_automatic_retrosynthesis(product=smiles, ai_model='2019-09-12')"
   ]
  },
  {
   "cell_type": "markdown",
   "metadata": {},
   "source": [
    "### Check status and get the results\n",
    "Rerun the following command until the status is 'SUCCESS', keep in mind the server allows only 5 requests per minute\n",
    "and a timeout between consecutive requests of 2 seconds"
   ]
  },
  {
   "cell_type": "code",
   "execution_count": null,
   "metadata": {},
   "outputs": [],
   "source": [
    "results = rxn4chemistry_wrapper.get_predict_automatic_retrosynthesis_results(response['prediction_id'])\n",
    "results['status']"
   ]
  },
  {
   "cell_type": "markdown",
   "metadata": {},
   "source": [
    "Upon 'SUCCESS' we can choose one of the returned retrosynthetic paths. The paths are sorted based on the scoring mechanism of the models."
   ]
  },
  {
   "cell_type": "code",
   "execution_count": null,
   "metadata": {},
   "outputs": [],
   "source": [
    "from rdkit import Chem\n",
    "from rdkit.Chem import AllChem\n",
    "from IPython.display import display\n",
    "\n",
    "\n",
    "def collect_reactions(tree):\n",
    "    reactions = []\n",
    "    if 'children' in tree and len(tree['children']):\n",
    "        reactions.append(\n",
    "            AllChem.ReactionFromSmarts('{}>>{}'.format(\n",
    "                '.'.join([node['smiles'] for node in tree['children']]),\n",
    "                tree['smiles']\n",
    "            ), useSmiles=True)\n",
    "        )\n",
    "    for node in tree['children']:\n",
    "        reactions.extend(collect_reactions(node))\n",
    "    return reactions"
   ]
  },
  {
   "cell_type": "code",
   "execution_count": null,
   "metadata": {},
   "outputs": [],
   "source": [
    "for index, path in enumerate(results['retrosynthetic_paths']):\n",
    "    print('Showing path {} with confidence {}:'.format(index, path['confidence']))\n",
    "    for reaction in collect_reactions(path):\n",
    "        display(Chem.Draw.ReactionToImage(reaction))"
   ]
  },
  {
   "cell_type": "markdown",
   "metadata": {},
   "source": [
    "**Hint**: You can visit your [rxn projects website](https://rxn.res.ibm.com/rxn/projects/) -> **rxn4chemistry_examples** -> **Attempts** -> **Retrosynthesis**. You should be able to see your new retrosynthesis prediction in the list!"
   ]
  },
  {
   "cell_type": "markdown",
   "metadata": {},
   "source": [
    "## Starting the process on the robot\n",
    "Once we have chosen the synthetic path, we can start the process on the robot\n",
    "### Create a new synthesis object\n",
    "Each retrosynthetic path predicted has a unique `sequenceId` that can be used to create a new synthesis"
   ]
  },
  {
   "cell_type": "code",
   "execution_count": null,
   "metadata": {},
   "outputs": [],
   "source": [
    "path = results['retrosynthetic_paths'][0] # we choose the path with the highest score\n",
    "response = rxn4chemistry_wrapper.create_synthesis_from_sequence(sequence_id=path['sequenceId'])\n",
    "new_synthesis_id = response['synthesis_id']"
   ]
  },
  {
   "cell_type": "markdown",
   "metadata": {},
   "source": [
    "### Inspect the synthesis plan\n",
    "Once we create a synthesis and obtain a synthesis id, we can inspect the predicted actions required to perform the synthesis."
   ]
  },
  {
   "cell_type": "code",
   "execution_count": null,
   "metadata": {},
   "outputs": [],
   "source": [
    "import json\n",
    "# get the entire list of actions for the entire synthesis, as well as a tree representation\n",
    "synthesis_tree, reactions, actions = rxn4chemistry_wrapper.get_synthesis_plan(synthesis_id=new_synthesis_id)\n",
    "\n",
    "# print the entire tree\n",
    "print(json.dumps(synthesis_tree, indent=2))\n",
    "\n",
    "# print the SMILES for each individual reaction (node in the tree)\n",
    "for reaction in reactions:\n",
    "    print('id: {} SMILES: {}'.format(reaction['id'], reaction['smiles']))\n",
    "\n",
    "# print all the actions in the entire tree, in the order that they will be executed\n",
    "for i, action in enumerate(actions, start=1):\n",
    "    print('{}: {}'.format(i, action))"
   ]
  },
  {
   "cell_type": "markdown",
   "metadata": {},
   "source": [
    "**Hint**: You can visit your [rxn projects website](https://rxn.res.ibm.com/rxn/projects/) -> **rxn4chemistry_examples** -> **Attempts** -> **Retrosynthesis**. Click **View** on your new retrosynthesis and in the new window click the **View in RoboRXN** button. You can now inspect your synthesis from the UI, modify the actions, as well as to specify additional actions, like `analysis`."
   ]
  },
  {
   "cell_type": "markdown",
   "metadata": {},
   "source": [
    "### Editing actions before submission\n",
    "The actions predicted by the models can be edited before sending to the robot/simulator.\n",
    "Actions editing takes place per tree node. We can use the `reactions` list returned in the previous step by `get_synthesis_plan()` to inspect/edit the actions of each node. In the following example we add an analysis action before the last step of the final reaction (the root of the synthesis tree)."
   ]
  },
  {
   "cell_type": "code",
   "execution_count": null,
   "metadata": {},
   "outputs": [],
   "source": [
    "node_id = reactions[-1]['id']  # get the id of the root node\n",
    "node_actions = rxn4chemistry_wrapper.get_node_actions(synthesis_id=new_synthesis_id, node_id=node_id)\n",
    "print(json.dumps(node_actions, indent=2))\n",
    "\n",
    "# add an analysis action before the last step\n",
    "analysis_action = {'name': 'analysis', 'content': {'reactor_solute_concentration': {'value': 10}}}\n",
    "node_actions.insert(-1, analysis_action)\n",
    "\n",
    "# We also need to set a duration to the DrySolid action otherwise the validation will fail\n",
    "node_actions[-3]['content']['duration'] = {'value': 60.0, 'quantity': None, 'unit': 'seconds'}\n",
    "\n",
    "import time\n",
    "time.sleep(10)  # avoid a \"too frequent requests\" error\n",
    "\n",
    "# update the actions of this node\n",
    "response = rxn4chemistry_wrapper.update_node_actions(synthesis_id=new_synthesis_id, node_id=node_id, actions=node_actions)"
   ]
  },
  {
   "cell_type": "markdown",
   "metadata": {},
   "source": [
    "### Launch the synthesis\n",
    "We can now start the synthesis process on the robotic hardware. Once the 'status' is 'DONE' the product is ready."
   ]
  },
  {
   "cell_type": "code",
   "execution_count": null,
   "metadata": {},
   "outputs": [],
   "source": [
    "synthesis_execution = rxn4chemistry_wrapper.start_synthesis(\n",
    "    synthesis_id=new_synthesis_id\n",
    ")\n",
    "print(synthesis_execution['synthesis_execution_id'])"
   ]
  },
  {
   "cell_type": "markdown",
   "metadata": {},
   "source": [
    "Once the synthesis has started, we can query the execution status."
   ]
  },
  {
   "cell_type": "code",
   "execution_count": null,
   "metadata": {},
   "outputs": [],
   "source": [
    "synthesis_status = rxn4chemistry_wrapper.get_synthesis_status(synthesis_id=synthesis_execution['synthesis_execution_id'])\n",
    "print(synthesis_status['status'])"
   ]
  },
  {
   "cell_type": "markdown",
   "metadata": {},
   "source": [
    "### Download any analysis reports that are available as pdf\n",
    "If we have specified `analysis` actions, we can download the respective pdf reports once they are available."
   ]
  },
  {
   "cell_type": "code",
   "execution_count": null,
   "metadata": {},
   "outputs": [],
   "source": [
    "analysis_actions = rxn4chemistry_wrapper.get_synthesis_actions_with_spectrometer_pdf(synthesis_id=synthesis_execution['synthesis_execution_id'])\n",
    "for action in analysis_actions:\n",
    "    print(\n",
    "        \"synthesis_id: {}, reaction_id: {}, action_index: {}\".format(\n",
    "            action['synthesis_id'],\n",
    "            action['node_id'],\n",
    "            action['action_index']\n",
    "        )\n",
    "    )\n",
    "\n",
    "time.sleep(10)  # avoid a \"too frequent requests\" error\n",
    "\n",
    "pdfs = []\n",
    "for action in analysis_actions:\n",
    "    pdfs.append(\n",
    "        rxn4chemistry_wrapper.get_synthesis_analysis_report_pdf(\n",
    "            **action\n",
    "        )\n",
    "    )\n",
    "print(pdfs[0])"
   ]
  }
 ],
 "metadata": {
  "kernelspec": {
   "display_name": "Python 3",
   "language": "python",
   "name": "python3"
  },
  "language_info": {
   "codemirror_mode": {
    "name": "ipython",
    "version": 3
   },
   "file_extension": ".py",
   "mimetype": "text/x-python",
   "name": "python",
   "nbconvert_exporter": "python",
   "pygments_lexer": "ipython3",
   "version": "3.7.6"
  }
 },
 "nbformat": 4,
 "nbformat_minor": 4
}
